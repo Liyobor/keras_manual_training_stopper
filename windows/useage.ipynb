{
 "cells": [
  {
   "cell_type": "code",
   "execution_count": 2,
   "metadata": {},
   "outputs": [
    {
     "name": "stdout",
     "output_type": "stream",
     "text": [
      "Epoch 1/1000\n",
      "32/32 [==============================] - 0s 3ms/step - loss: 0.7073 - accuracy: 0.4980\n",
      "Epoch 2/1000\n",
      "32/32 [==============================] - 0s 4ms/step - loss: 0.7036 - accuracy: 0.4890\n",
      "Epoch 3/1000\n",
      "32/32 [==============================] - 0s 3ms/step - loss: 0.7016 - accuracy: 0.4940\n",
      "Epoch 4/1000\n",
      "32/32 [==============================] - 0s 3ms/step - loss: 0.6998 - accuracy: 0.4910\n",
      "Epoch 5/1000\n",
      "32/32 [==============================] - 0s 3ms/step - loss: 0.6986 - accuracy: 0.4880\n",
      "Epoch 6/1000\n",
      "32/32 [==============================] - 0s 3ms/step - loss: 0.6978 - accuracy: 0.4870\n",
      "Epoch 7/1000\n",
      "32/32 [==============================] - 0s 3ms/step - loss: 0.6971 - accuracy: 0.4930\n",
      "Epoch 8/1000\n",
      "32/32 [==============================] - 0s 3ms/step - loss: 0.6965 - accuracy: 0.4850\n",
      "Epoch 9/1000\n",
      "32/32 [==============================] - 0s 3ms/step - loss: 0.6961 - accuracy: 0.4900\n",
      "Epoch 10/1000\n",
      "32/32 [==============================] - 0s 3ms/step - loss: 0.6955 - accuracy: 0.4820\n",
      "Epoch 11/1000\n",
      "32/32 [==============================] - 0s 3ms/step - loss: 0.6949 - accuracy: 0.4910\n",
      "Epoch 12/1000\n",
      "32/32 [==============================] - 0s 3ms/step - loss: 0.6945 - accuracy: 0.4850\n",
      "Epoch 13/1000\n",
      "32/32 [==============================] - 0s 3ms/step - loss: 0.6943 - accuracy: 0.4820\n",
      "Epoch 14/1000\n",
      "32/32 [==============================] - 0s 3ms/step - loss: 0.6944 - accuracy: 0.4960\n",
      "Epoch 15/1000\n",
      "32/32 [==============================] - 0s 3ms/step - loss: 0.6938 - accuracy: 0.4980\n",
      "Epoch 16/1000\n",
      "32/32 [==============================] - 0s 3ms/step - loss: 0.6939 - accuracy: 0.5060\n",
      "Epoch 17/1000\n",
      "32/32 [==============================] - 0s 3ms/step - loss: 0.6935 - accuracy: 0.4830\n",
      "Epoch 18/1000\n",
      "32/32 [==============================] - 0s 3ms/step - loss: 0.6927 - accuracy: 0.5000\n",
      "Epoch 19/1000\n",
      "32/32 [==============================] - 0s 3ms/step - loss: 0.6925 - accuracy: 0.5030\n",
      "Epoch 20/1000\n",
      "32/32 [==============================] - 0s 3ms/step - loss: 0.6923 - accuracy: 0.5110\n",
      "Epoch 21/1000\n",
      "17/32 [==============>...............] - ETA: 0s - loss: 0.6923 - accuracy: 0.5184\n",
      "No response,continue training.\n",
      "32/32 [==============================] - 3s 103ms/step - loss: 0.6922 - accuracy: 0.5110\n",
      "Epoch 22/1000\n",
      "32/32 [==============================] - 2s 71ms/step - loss: 0.6921 - accuracy: 0.5260\n"
     ]
    },
    {
     "data": {
      "text/plain": [
       "<keras.callbacks.History at 0x29926135420>"
      ]
     },
     "execution_count": 2,
     "metadata": {},
     "output_type": "execute_result"
    }
   ],
   "source": [
    "import numpy as np\n",
    "from keras.models import Sequential\n",
    "from keras.layers import Dense\n",
    "from manual_training_stopper_callback import ManualTrainingStopperCallback\n",
    "\n",
    "# 假設數據\n",
    "X = np.random.rand(1000, 20)\n",
    "y = np.random.randint(2, size=1000)\n",
    "\n",
    "\n",
    "\n",
    "# 建立簡單模型\n",
    "model = Sequential()\n",
    "model.add(Dense(10, input_dim=20, activation='relu'))\n",
    "model.add(Dense(1, activation='sigmoid'))\n",
    "model.compile(loss='binary_crossentropy', optimizer='adam', metrics=['accuracy'])\n",
    "\n",
    "\n",
    "trainingStopperCallback = ManualTrainingStopperCallback(model,timeout=3)\n",
    "model.fit(X, y, epochs=1000, batch_size=32, verbose=1,callbacks=[trainingStopperCallback])\n"
   ]
  }
 ],
 "metadata": {
  "kernelspec": {
   "display_name": "Python 3",
   "language": "python",
   "name": "python3"
  },
  "language_info": {
   "codemirror_mode": {
    "name": "ipython",
    "version": 3
   },
   "file_extension": ".py",
   "mimetype": "text/x-python",
   "name": "python",
   "nbconvert_exporter": "python",
   "pygments_lexer": "ipython3",
   "version": "3.10.6"
  },
  "orig_nbformat": 4
 },
 "nbformat": 4,
 "nbformat_minor": 2
}
