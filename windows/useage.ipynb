{
 "cells": [
  {
   "cell_type": "code",
   "execution_count": null,
   "metadata": {},
   "outputs": [],
   "source": [
    "import numpy as np\n",
    "from keras.models import Sequential\n",
    "from keras.layers import Dense\n",
    "from manual_training_stopper_callback import ManualTrainingStopperCallback\n",
    "\n",
    "# 假設數據\n",
    "X = np.random.rand(1000, 20)\n",
    "y = np.random.randint(2, size=1000)\n",
    "\n",
    "\n",
    "\n",
    "# 建立簡單模型\n",
    "model = Sequential()\n",
    "model.add(Dense(10, input_dim=20, activation='relu'))\n",
    "model.add(Dense(1, activation='sigmoid'))\n",
    "model.compile(loss='binary_crossentropy', optimizer='adam', metrics=['accuracy'])\n",
    "\n",
    "\n",
    "trainingStopperCallback = ManualTrainingStopperCallback(model,timeout=3)\n",
    "model.fit(X, y, epochs=1000, batch_size=32, verbose=1,callbacks=[trainingStopperCallback])\n"
   ]
  }
 ],
 "metadata": {
  "kernelspec": {
   "display_name": "Python 3",
   "language": "python",
   "name": "python3"
  },
  "language_info": {
   "codemirror_mode": {
    "name": "ipython",
    "version": 3
   },
   "file_extension": ".py",
   "mimetype": "text/x-python",
   "name": "python",
   "nbconvert_exporter": "python",
   "pygments_lexer": "ipython3",
   "version": "3.10.6"
  },
  "orig_nbformat": 4
 },
 "nbformat": 4,
 "nbformat_minor": 2
}
