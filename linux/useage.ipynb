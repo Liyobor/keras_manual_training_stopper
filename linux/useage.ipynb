{
 "cells": [
  {
   "cell_type": "code",
   "execution_count": null,
   "metadata": {},
   "outputs": [],
   "source": [
    "import numpy as np\n",
    "from keras.models import Sequential\n",
    "from keras.layers import Dense\n",
    "import os\n",
    "from manual_training_stopper_callback import ManualTrainingStopperCallback\n",
    "\n",
    "os.environ[\"CUDA_VISIBLE_DEVICES\"] = \"0\"\n",
    "\n",
    "X = np.random.rand(1000, 20)\n",
    "y = np.random.randint(2, size=1000)\n",
    "\n",
    "\n",
    "\n",
    "model = Sequential()\n",
    "model.add(Dense(10, input_dim=20, activation='relu'))\n",
    "model.add(Dense(1, activation='sigmoid'))\n",
    "model.compile(loss='binary_crossentropy', optimizer='adam', metrics=['accuracy'])\n",
    "\n",
    "\n",
    "trainingStopperCallback = ManualTrainingStopperCallback(model,timeout=20)\n",
    "model.fit(X, y, epochs=1000, batch_size=32, verbose=1,callbacks=[trainingStopperCallback])\n"
   ]
  }
 ],
 "metadata": {
  "language_info": {
   "name": "python"
  },
  "orig_nbformat": 4
 },
 "nbformat": 4,
 "nbformat_minor": 2
}
